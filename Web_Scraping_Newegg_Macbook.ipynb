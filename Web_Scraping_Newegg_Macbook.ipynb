{
 "cells": [
  {
   "cell_type": "markdown",
   "metadata": {},
   "source": [
    "# Web Scraping For New Egg - MacBook Search"
   ]
  },
  {
   "cell_type": "code",
   "execution_count": 49,
   "metadata": {},
   "outputs": [],
   "source": [
    "from urllib.request import urlopen\n",
    "from urllib.error import HTTPError\n",
    "from bs4 import BeautifulSoup"
   ]
  },
  {
   "cell_type": "code",
   "execution_count": 50,
   "metadata": {},
   "outputs": [],
   "source": [
    "#checking and handling for title\n",
    "def getTitle(url):\n",
    "    try:\n",
    "        html = urlopen(url)\n",
    "    except HTTPError as e:\n",
    "        return None\n",
    "    try:\n",
    "        bsObj = BeautifulSoup(html.read())\n",
    "        title = bsObj.body.h1\n",
    "    except AttributeError as e:\n",
    "        return None\n",
    "    return title"
   ]
  },
  {
   "cell_type": "code",
   "execution_count": 51,
   "metadata": {},
   "outputs": [
    {
     "name": "stdout",
     "output_type": "stream",
     "text": [
      "<h1 class=\"page-title-text\">\"macbook\"</h1>\n"
     ]
    }
   ],
   "source": [
    "# opening up connection, grabbing the page\n",
    "url = \"https://www.newegg.com/p/pl?d=macbook\"\n",
    "title = getTitle(url)\n",
    "if title == None:\n",
    "    print(\"Title could not be found\")\n",
    "else:\n",
    "    print(title)"
   ]
  },
  {
   "cell_type": "markdown",
   "metadata": {},
   "source": [
    "### - Advanced Html Parsing"
   ]
  },
  {
   "cell_type": "code",
   "execution_count": 66,
   "metadata": {},
   "outputs": [],
   "source": [
    "product_names = list()\n",
    "brands = list()\n",
    "shippings = list()\n",
    "prices = list()\n",
    "# grabbing the entire page\n",
    "def entirePage(url):\n",
    "    try:\n",
    "        html = urlopen(url)\n",
    "    except HTTPError as e:\n",
    "        print(e)\n",
    "        exit()\n",
    "    try:\n",
    "        bsObj = BeautifulSoup(html)\n",
    "    except AttributeError as e:\n",
    "        print(e)\n",
    "        exit()\n",
    "        \n",
    "    containers = bsObj.findAll(\"div\", {\"class\": \"item-container\"})\n",
    "    #print(bsObj)\n",
    "    for container in containers:\n",
    "        brand = container.a.img[\"title\"]\n",
    "        title_container = container.findAll(\"a\", {\"class\", \"item-title\"})\n",
    "        product_name = title_container[0].text\n",
    "        shipping_container = container.findAll(\"li\", {\"class\": \"price-ship\"})\n",
    "        if len(shipping_container) is 0:\n",
    "            shipping = None\n",
    "        else:\n",
    "            shipping = shipping_container[0].text.strip()\n",
    "        price_container = container.findAll(\"li\", {\"class\": \"price-current\"})\n",
    "        if len(price_container) is 0:\n",
    "            price = None\n",
    "        else:\n",
    "            price = price_container[0].text.strip()\n",
    "        \n",
    "        if shipping is not None:\n",
    "            product_names.append(product_name.replace(\",\", \"|\"))\n",
    "            brands.append(brand)\n",
    "            shippings.append(shipping)\n",
    "            prices.append(price.replace(\"\\n\", \"|\"))\n",
    "\n",
    "entirePage(url)    "
   ]
  },
  {
   "cell_type": "code",
   "execution_count": 67,
   "metadata": {},
   "outputs": [],
   "source": [
    "import pandas as pd"
   ]
  },
  {
   "cell_type": "code",
   "execution_count": 68,
   "metadata": {},
   "outputs": [
    {
     "data": {
      "text/html": [
       "<div>\n",
       "<style scoped>\n",
       "    .dataframe tbody tr th:only-of-type {\n",
       "        vertical-align: middle;\n",
       "    }\n",
       "\n",
       "    .dataframe tbody tr th {\n",
       "        vertical-align: top;\n",
       "    }\n",
       "\n",
       "    .dataframe thead th {\n",
       "        text-align: right;\n",
       "    }\n",
       "</style>\n",
       "<table border=\"1\" class=\"dataframe\">\n",
       "  <thead>\n",
       "    <tr style=\"text-align: right;\">\n",
       "      <th></th>\n",
       "      <th>Product names</th>\n",
       "      <th>Brands</th>\n",
       "      <th>Shippings</th>\n",
       "      <th>Prices</th>\n",
       "    </tr>\n",
       "  </thead>\n",
       "  <tbody>\n",
       "    <tr>\n",
       "      <th>0</th>\n",
       "      <td>Apple Laptop MacBook Air (Mid 2017) MQD32LL/A ...</td>\n",
       "      <td>Apple Laptop MacBook Air (Mid 2017) MQD32LL/A ...</td>\n",
       "      <td>Free Shipping</td>\n",
       "      <td>$1,299.95 (18 Offers)||–</td>\n",
       "    </tr>\n",
       "    <tr>\n",
       "      <th>1</th>\n",
       "      <td>Refurbished: Apple Grade C Laptop MacBook Air ...</td>\n",
       "      <td>Apple Grade C Laptop MacBook Air MD711LL/B Int...</td>\n",
       "      <td>$3.99 Shipping</td>\n",
       "      <td>||$319.99 (4 Offers)||–</td>\n",
       "    </tr>\n",
       "    <tr>\n",
       "      <th>2</th>\n",
       "      <td>Refurbished: Apple A Grade Macbook Pro 15.4-in...</td>\n",
       "      <td>Apple A Grade Macbook Pro 15.4-inch (Retina DG...</td>\n",
       "      <td>Special Shipping</td>\n",
       "      <td>$1,265.00 (6 Offers)||–</td>\n",
       "    </tr>\n",
       "    <tr>\n",
       "      <th>3</th>\n",
       "      <td>Apple Laptop MacBook Air MMGF2LL/A Intel Core ...</td>\n",
       "      <td>Apple Laptop MacBook Air MMGF2LL/A Intel Core ...</td>\n",
       "      <td>Free Shipping</td>\n",
       "      <td>$849.99 (10 Offers)||–</td>\n",
       "    </tr>\n",
       "    <tr>\n",
       "      <th>4</th>\n",
       "      <td>Refurbished: Apple MacBook Air MJVG2LL/A Intel...</td>\n",
       "      <td>Apple MacBook Air MJVG2LL/A Intel Core i5-5250...</td>\n",
       "      <td>$3.99 Shipping</td>\n",
       "      <td>||$474.99 \\r|            |–</td>\n",
       "    </tr>\n",
       "  </tbody>\n",
       "</table>\n",
       "</div>"
      ],
      "text/plain": [
       "                                       Product names  \\\n",
       "0  Apple Laptop MacBook Air (Mid 2017) MQD32LL/A ...   \n",
       "1  Refurbished: Apple Grade C Laptop MacBook Air ...   \n",
       "2  Refurbished: Apple A Grade Macbook Pro 15.4-in...   \n",
       "3  Apple Laptop MacBook Air MMGF2LL/A Intel Core ...   \n",
       "4  Refurbished: Apple MacBook Air MJVG2LL/A Intel...   \n",
       "\n",
       "                                              Brands         Shippings  \\\n",
       "0  Apple Laptop MacBook Air (Mid 2017) MQD32LL/A ...     Free Shipping   \n",
       "1  Apple Grade C Laptop MacBook Air MD711LL/B Int...    $3.99 Shipping   \n",
       "2  Apple A Grade Macbook Pro 15.4-inch (Retina DG...  Special Shipping   \n",
       "3  Apple Laptop MacBook Air MMGF2LL/A Intel Core ...     Free Shipping   \n",
       "4  Apple MacBook Air MJVG2LL/A Intel Core i5-5250...    $3.99 Shipping   \n",
       "\n",
       "                        Prices  \n",
       "0     $1,299.95 (18 Offers)||–  \n",
       "1      ||$319.99 (4 Offers)||–  \n",
       "2      $1,265.00 (6 Offers)||–  \n",
       "3       $849.99 (10 Offers)||–  \n",
       "4  ||$474.99 \\r|            |–  "
      ]
     },
     "execution_count": 68,
     "metadata": {},
     "output_type": "execute_result"
    }
   ],
   "source": [
    "df = pd.DataFrame({\"Product names\":product_names,\"Brands\":brands, \"Shippings\":shippings, \"Prices\": prices})\n",
    "df.head(5)"
   ]
  },
  {
   "cell_type": "code",
   "execution_count": null,
   "metadata": {},
   "outputs": [],
   "source": []
  }
 ],
 "metadata": {
  "kernelspec": {
   "display_name": "Python 3",
   "language": "python",
   "name": "python3"
  },
  "language_info": {
   "codemirror_mode": {
    "name": "ipython",
    "version": 3
   },
   "file_extension": ".py",
   "mimetype": "text/x-python",
   "name": "python",
   "nbconvert_exporter": "python",
   "pygments_lexer": "ipython3",
   "version": "3.7.4"
  }
 },
 "nbformat": 4,
 "nbformat_minor": 2
}
